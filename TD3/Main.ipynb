{
 "cells": [
  {
   "cell_type": "code",
   "execution_count": null,
   "outputs": [],
   "source": [
    "from plots.q_plot import q_plot\n",
    "from plots.loss_reward_plot import plot_loss_reward"
   ],
   "metadata": {
    "collapsed": false
   },
   "id": "91be5daf8e825065"
  },
  {
   "cell_type": "markdown",
   "source": [
    "Learning statistics for the trained agent"
   ],
   "metadata": {
    "collapsed": false
   },
   "id": "47cd84f995be9e66"
  },
  {
   "cell_type": "code",
   "execution_count": null,
   "outputs": [],
   "source": [
    "plot_loss_reward('winners/winning_normal/TD3_Hockey-v0_normal2_1')"
   ],
   "metadata": {
    "collapsed": false
   },
   "id": "a9387ef49b5c2087"
  },
  {
   "cell_type": "markdown",
   "source": [
    "Q-Function for the trained agent"
   ],
   "metadata": {
    "collapsed": false
   },
   "id": "8a1ad524697a5d8"
  },
  {
   "cell_type": "code",
   "execution_count": null,
   "outputs": [],
   "source": [
    "q_plot('winners/winning_normal/TD3_Hockey-v0_normal2_1_1', render=False)"
   ],
   "metadata": {
    "collapsed": false
   },
   "id": "ab4d09fdedd49d87"
  }
 ],
 "metadata": {
  "kernelspec": {
   "display_name": "Python 3",
   "language": "python",
   "name": "python3"
  },
  "language_info": {
   "codemirror_mode": {
    "name": "ipython",
    "version": 2
   },
   "file_extension": ".py",
   "mimetype": "text/x-python",
   "name": "python",
   "nbconvert_exporter": "python",
   "pygments_lexer": "ipython2",
   "version": "2.7.6"
  }
 },
 "nbformat": 4,
 "nbformat_minor": 5
}
